{
  "cells": [
    {
      "cell_type": "markdown",
      "id": "9bc79604",
      "metadata": {
        "id": "9bc79604"
      },
      "source": [
        "\n",
        "#### Question3\n",
        "3.1 How many total records are there?\n"
      ]
    },
    {
      "cell_type": "markdown",
      "id": "59ced272",
      "metadata": {
        "id": "59ced272"
      },
      "source": [
        "100480507"
      ]
    },
    {
      "cell_type": "code",
      "execution_count": 32,
      "id": "19c33678",
      "metadata": {
        "colab": {
          "base_uri": "https://localhost:8080/"
        },
        "id": "19c33678",
        "outputId": "aa963cce-3497-47e9-b173-274f715394df"
      },
      "outputs": [
        {
          "output_type": "stream",
          "name": "stdout",
          "text": [
            "24053764\n",
            "26977591\n",
            "22601629\n",
            "26847523\n",
            "100480507\n"
          ]
        }
      ],
      "source": [
        "files = [\"combined_data_1.txt\", \"combined_data_2.txt\", \"combined_data_3.txt\", \"combined_data_4.txt\"]\n",
        "\n",
        "\n",
        "def count(txtfile):\n",
        "  lines = open(txtfile)\n",
        "  number_records = 0\n",
        "\n",
        "  for line in lines:\n",
        "    if \":\" in line:\n",
        "      continue\n",
        "    else:\n",
        "      number_records += 1\n",
        "  print(number_records)\n",
        "  return number_records\n",
        "\n",
        "sum = 0\n",
        "for txtfile in files:\n",
        "  sum += count(txtfile)\n",
        "print(sum)\n"
      ]
    },
    {
      "cell_type": "markdown",
      "id": "f4e7adce",
      "metadata": {
        "id": "f4e7adce"
      },
      "source": [
        "3.2 Can you plot the distribution of star ratings over users and time? The granularity of the sliding window is at your discretion. Are there any trends?\n"
      ]
    },
    {
      "cell_type": "markdown",
      "id": "fb8cc563",
      "metadata": {
        "id": "fb8cc563"
      },
      "source": [
        "As we can tell from the graph below, we get more and more ratings as years go by."
      ]
    },
    {
      "cell_type": "code",
      "execution_count": 2,
      "id": "2f3ed2bb",
      "metadata": {
        "colab": {
          "base_uri": "https://localhost:8080/",
          "height": 294
        },
        "id": "2f3ed2bb",
        "outputId": "a25322cc-df37-49af-8062-d2458a650077"
      },
      "outputs": [
        {
          "output_type": "execute_result",
          "data": {
            "text/plain": [
              "<matplotlib.axes._subplots.AxesSubplot at 0x7f8b8831a5e0>"
            ]
          },
          "metadata": {},
          "execution_count": 2
        },
        {
          "output_type": "display_data",
          "data": {
            "text/plain": [
              "<Figure size 432x288 with 1 Axes>"
            ],
            "image/png": "[encoded data removed]"
          },
          "metadata": {
            "needs_background": "light"
          }
        }
      ],
      "source": [
        "import pandas as pd\n",
        "import matplotlib.pyplot as plt\n",
        "\n",
        "#CustomerID,Rating,Date\n",
        "df = pd.read_csv('combined_data_1.txt', delimiter = \",\",names=['customerId', 'rating', 'date'])\n",
        "df['year'] = pd.DatetimeIndex(df['date']).year\n",
        "df.plot(kind = 'hist', x = 'rating', y = 'year')"
      ]
    },
    {
      "cell_type": "markdown",
      "id": "375d8a50",
      "metadata": {
        "id": "375d8a50"
      },
      "source": [
        "3.3 What percentage of the films have gotten more popular over time?\n"
      ]
    },
    {
      "cell_type": "markdown",
      "id": "fb60d2a1",
      "metadata": {
        "id": "fb60d2a1"
      },
      "source": [
        "75.0%"
      ]
    },
    {
      "cell_type": "code",
      "execution_count": 34,
      "id": "3ce8f062",
      "metadata": {
        "colab": {
          "base_uri": "https://localhost:8080/"
        },
        "id": "3ce8f062",
        "outputId": "b07dc599-6492-48f1-cdf5-6887d0bfe921"
      },
      "outputs": [
        {
          "output_type": "stream",
          "name": "stdout",
          "text": [
            "3373\n",
            "0.7497221604801066\n"
          ]
        }
      ],
      "source": [
        "lines = open(\"combined_data_1.txt\")\n",
        "num = 0\n",
        "\n",
        "movie_dates = dict()\n",
        "movie_ratings = dict()\n",
        "\n",
        "for line in lines:\n",
        "  # New movie\n",
        "  if \":\" in line:\n",
        "    movie_key = int(line.split(\":\")[0])\n",
        "    movie_dates[movie_key] = []\n",
        "    movie_ratings[movie_key] = []\n",
        "    continue\n",
        "  # Parse the line\n",
        "  else:\n",
        "    items = line.split(\",\")\n",
        "    movie_dates[movie_key].append( items[2][:-1] )\n",
        "    movie_ratings[movie_key].append( int(items[1]) )\n",
        "    num += 1\n",
        "\n",
        "popular_or_not = 0\n",
        "\n",
        "for movie_key in movie_dates:\n",
        "  movie_date_list = movie_dates[movie_key]\n",
        "  movie_last =  movie_date_list.index(max(movie_date_list))\n",
        "  movie_first = movie_date_list.index(min(movie_date_list))\n",
        "  popular_or_not += int((movie_ratings[movie_key][movie_last] - \n",
        "                         movie_ratings[movie_key][movie_first]) >= 0)\n",
        "\n",
        "print(popular_or_not)\n",
        "len(movie_dates.keys())\n",
        "\n",
        "print(popular_or_not/len(movie_dates.keys()))"
      ]
    },
    {
      "cell_type": "markdown",
      "id": "48582cce",
      "metadata": {
        "id": "48582cce"
      },
      "source": [
        "3.4 How many films have been re-released? How do you know?\n"
      ]
    },
    {
      "cell_type": "markdown",
      "source": [
        "None of them. Because every movie has a unique id."
      ],
      "metadata": {
        "id": "iDBp1ILGKIiX"
      },
      "id": "iDBp1ILGKIiX"
    },
    {
      "cell_type": "code",
      "source": [
        "movie_set = set()\n",
        "\n",
        "files = [\"combined_data_1.txt\", \"combined_data_2.txt\", \"combined_data_3.txt\", \"combined_data_4.txt\"]\n",
        "\n",
        "count = 0\n",
        "\n",
        "for txtfile in files:\n",
        "  lines = open(txtfile)\n",
        "  for line in lines:\n",
        "    if \":\" in line:\n",
        "      movie_set.add(line)\n",
        "      count += 1\n",
        "\n",
        "print(count - len(movie_set))\n",
        "\n"
      ],
      "metadata": {
        "colab": {
          "base_uri": "https://localhost:8080/"
        },
        "id": "XHhOL7bNHsFJ",
        "outputId": "9f35dba3-8f60-4860-ceb2-2bb8b2675257"
      },
      "id": "XHhOL7bNHsFJ",
      "execution_count": 25,
      "outputs": [
        {
          "output_type": "stream",
          "name": "stdout",
          "text": [
            "0\n"
          ]
        }
      ]
    },
    {
      "cell_type": "markdown",
      "id": "ebb3eda4",
      "metadata": {
        "id": "ebb3eda4"
      },
      "source": [
        "3.5 What other information might we try to extract to better understand the data? For the questions that you may come up with (especially any time series data), make sure you back up your assertions with plots. Go ahead and play around with the data, and explore.\n"
      ]
    },
    {
      "cell_type": "markdown",
      "id": "72bcc1bc",
      "metadata": {
        "id": "72bcc1bc"
      },
      "source": [
        "From the histograph I made below, it looks like the number of users and the number of rating is in a opposite relationship. While one variable increase the other variable decrease and vice versa."
      ]
    },
    {
      "cell_type": "code",
      "execution_count": 26,
      "id": "c4d9a8a9",
      "metadata": {
        "colab": {
          "base_uri": "https://localhost:8080/",
          "height": 295
        },
        "id": "c4d9a8a9",
        "outputId": "bb101c45-69a7-474b-b3e9-4b7561119d48"
      },
      "outputs": [
        {
          "output_type": "display_data",
          "data": {
            "text/plain": [
              "<Figure size 432x288 with 1 Axes>"
            ],
            "image/png": "[encoded data removed]"
          },
          "metadata": {
            "needs_background": "light"
          }
        }
      ],
      "source": [
        "import pandas as pd\n",
        "import matplotlib.pyplot as plt\n",
        "\n",
        "# Create a DataFrame from the combined data file\n",
        "ratings_df = pd.read_csv('combined_data_1.txt', names=['userId', 'rating', 'timestamp'])\n",
        "ratings_df['timestamp'] = pd.to_datetime(ratings_df['timestamp'])\n",
        "ratings_df['year'] = ratings_df['timestamp'].dt.year\n",
        "\n",
        "# Group the data by userId and year to get the number of ratings for each user and for each time window\n",
        "num_ratings_df = ratings_df.groupby(['userId','year']).size().reset_index(name='num_ratings')\n",
        "\n",
        "# Create a histogram of the number of ratings for each user\n",
        "plt.hist(num_ratings_df.groupby('userId').sum()['num_ratings'], bins=50, range=[0, 500])\n",
        "plt.xlabel('Number of ratings')\n",
        "plt.ylabel('Number of users')\n",
        "plt.title('Histogram of number of ratings per user')\n",
        "plt.show()"
      ]
    },
    {
      "cell_type": "markdown",
      "id": "aad6739c",
      "metadata": {
        "id": "aad6739c"
      },
      "source": [
        "3.6 What are some interesting problems that we might solve? (No need to actually solve them!)"
      ]
    },
    {
      "cell_type": "markdown",
      "id": "facda721",
      "metadata": {
        "id": "facda721"
      },
      "source": [
        "For each user, we might be able to generate a personal movie record. It contains how many movies they have watched in past 1 month/year, the average of their ratings, and their favorite top 5 movies."
      ]
    }
  ],
  "metadata": {
    "kernelspec": {
      "display_name": "Python 3.8.9 64-bit",
      "language": "python",
      "name": "python3"
    },
    "language_info": {
      "codemirror_mode": {
        "name": "ipython",
        "version": 3
      },
      "file_extension": ".py",
      "mimetype": "text/x-python",
      "name": "python",
      "nbconvert_exporter": "python",
      "pygments_lexer": "ipython3",
      "version": "3.8.9"
    },
    "vscode": {
      "interpreter": {
        "hash": "31f2aee4e71d21fbe5cf8b01ff0e069b9275f58929596ceb00d14d90e3e16cd6"
      }
    },
    "colab": {
      "provenance": []
    }
  },
  "nbformat": 4,
  "nbformat_minor": 5
}